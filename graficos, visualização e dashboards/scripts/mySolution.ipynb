{
 "cells": [
  {
   "cell_type": "code",
   "execution_count": 9,
   "metadata": {},
   "outputs": [],
   "source": [
    "import pandas as pd\n",
    "import numpy as np\n",
    "import matplotlib.pyplot as plt\n",
    "import seaborn as srn"
   ]
  },
  {
   "cell_type": "code",
   "execution_count": 2,
   "metadata": {},
   "outputs": [
    {
     "data": {
      "text/html": [
       "<div>\n",
       "<style scoped>\n",
       "    .dataframe tbody tr th:only-of-type {\n",
       "        vertical-align: middle;\n",
       "    }\n",
       "\n",
       "    .dataframe tbody tr th {\n",
       "        vertical-align: top;\n",
       "    }\n",
       "\n",
       "    .dataframe thead th {\n",
       "        text-align: right;\n",
       "    }\n",
       "</style>\n",
       "<table border=\"1\" class=\"dataframe\">\n",
       "  <thead>\n",
       "    <tr style=\"text-align: right;\">\n",
       "      <th></th>\n",
       "      <th>CODIGO</th>\n",
       "      <th>MUNICIPIO</th>\n",
       "      <th>PIB</th>\n",
       "      <th>VALOREMPENHO</th>\n",
       "    </tr>\n",
       "  </thead>\n",
       "  <tbody>\n",
       "    <tr>\n",
       "      <th>0</th>\n",
       "      <td>106</td>\n",
       "      <td>SANTANA DO LIVRAMENTO</td>\n",
       "      <td>12240.76</td>\n",
       "      <td>1088666.10</td>\n",
       "    </tr>\n",
       "    <tr>\n",
       "      <th>1</th>\n",
       "      <td>113</td>\n",
       "      <td>SANTO ANGELO</td>\n",
       "      <td>16575.82</td>\n",
       "      <td>800669.92</td>\n",
       "    </tr>\n",
       "    <tr>\n",
       "      <th>2</th>\n",
       "      <td>118</td>\n",
       "      <td>SAO FRANCISCO DE ASSIS</td>\n",
       "      <td>12037.61</td>\n",
       "      <td>466122.80</td>\n",
       "    </tr>\n",
       "    <tr>\n",
       "      <th>3</th>\n",
       "      <td>13</td>\n",
       "      <td>CACAPAVA DO SUL</td>\n",
       "      <td>13674.54</td>\n",
       "      <td>485535.86</td>\n",
       "    </tr>\n",
       "    <tr>\n",
       "      <th>4</th>\n",
       "      <td>120</td>\n",
       "      <td>SAO GABRIEL</td>\n",
       "      <td>19912.38</td>\n",
       "      <td>533719.86</td>\n",
       "    </tr>\n",
       "  </tbody>\n",
       "</table>\n",
       "</div>"
      ],
      "text/plain": [
       "   CODIGO               MUNICIPIO       PIB  VALOREMPENHO\n",
       "0     106   SANTANA DO LIVRAMENTO  12240.76    1088666.10\n",
       "1     113            SANTO ANGELO  16575.82     800669.92\n",
       "2     118  SAO FRANCISCO DE ASSIS  12037.61     466122.80\n",
       "3      13         CACAPAVA DO SUL  13674.54     485535.86\n",
       "4     120             SAO GABRIEL  19912.38     533719.86"
      ]
     },
     "execution_count": 2,
     "metadata": {},
     "output_type": "execute_result"
    }
   ],
   "source": [
    "dataset = pd.read_csv('../dados/dados.csv', sep=';')\n",
    "dataset.head()"
   ]
  },
  {
   "cell_type": "code",
   "execution_count": 8,
   "metadata": {},
   "outputs": [
    {
     "data": {
      "text/plain": [
       "MUNICIPIO\n",
       "AGUDO                         1\n",
       "AJURICABA                     1\n",
       "ALECRIM                       1\n",
       "ALMIRANTE TAMANDARE DO SUL    1\n",
       "ALTO FELIZ                    1\n",
       "                             ..\n",
       "VERA CRUZ                     1\n",
       "VIADUTOS                      1\n",
       "VICTOR GRAEFF                 1\n",
       "VILA MARIA                    1\n",
       "VILA NOVA DO SUL              1\n",
       "Length: 177, dtype: int64"
      ]
     },
     "execution_count": 8,
     "metadata": {},
     "output_type": "execute_result"
    }
   ],
   "source": [
    "dataset.groupby([dataset.MUNICIPIO]).size()"
   ]
  },
  {
   "cell_type": "code",
   "execution_count": 19,
   "metadata": {},
   "outputs": [
    {
     "data": {
      "image/png": "[encoded data removed]",
      "text/plain": [
       "<Figure size 432x288 with 4 Axes>"
      ]
     },
     "metadata": {
      "needs_background": "light"
     },
     "output_type": "display_data"
    }
   ],
   "source": [
    "plt.figure()\n",
    "plt.subplot(2,2,1)\n",
    "srn.scatterplot(dataset.PIB, dataset.VALOREMPENHO)\n",
    "plt.subplot(2,2,2)\n",
    "plt.scatter(dataset.PIB, dataset.VALOREMPENHO, )\n",
    "plt.subplot(2,2,3)\n",
    "plt.plot(dataset.PIB, dataset.VALOREMPENHO)\n",
    "plt.subplot(2,2,4)\n",
    "srn.regplot(dataset.PIB, dataset.VALOREMPENHO, data = dataset, x_jitter= 0.3, fit_reg=False)\n",
    "plt.tight_layout()"
   ]
  },
  {
   "cell_type": "code",
   "execution_count": 21,
   "metadata": {},
   "outputs": [
    {
     "data": {
      "text/plain": [
       "Text(0.5, 1.0, 'Arvores')"
      ]
     },
     "execution_count": 21,
     "metadata": {},
     "output_type": "execute_result"
    },
    {
     "data": {
      "image/png": "[encoded data removed]",
      "text/plain": [
       "<Figure size 432x288 with 1 Axes>"
      ]
     },
     "metadata": {
      "needs_background": "light"
     },
     "output_type": "display_data"
    }
   ],
   "source": [
    "\n",
    "srn.boxplot(dataset.PIB).set_title('Arvores')\n",
    "\n"
   ]
  },
  {
   "cell_type": "code",
   "execution_count": 22,
   "metadata": {},
   "outputs": [
    {
     "data": {
      "text/plain": [
       "Text(0.5, 1.0, 'Valor Empenho')"
      ]
     },
     "execution_count": 22,
     "metadata": {},
     "output_type": "execute_result"
    },
    {
     "data": {
      "image/png": "[encoded data removed]",
      "text/plain": [
       "<Figure size 432x288 with 1 Axes>"
      ]
     },
     "metadata": {
      "needs_background": "light"
     },
     "output_type": "display_data"
    }
   ],
   "source": [
    "srn.boxplot(dataset.VALOREMPENHO).set_title('Valor Empenho')"
   ]
  },
  {
   "cell_type": "code",
   "execution_count": null,
   "metadata": {},
   "outputs": [],
   "source": []
  }
 ],
 "metadata": {
  "kernelspec": {
   "display_name": "Python 3",
   "language": "python",
   "name": "python3"
  },
  "language_info": {
   "codemirror_mode": {
    "name": "ipython",
    "version": 3
   },
   "file_extension": ".py",
   "mimetype": "text/x-python",
   "name": "python",
   "nbconvert_exporter": "python",
   "pygments_lexer": "ipython3",
   "version": "3.8.3"
  }
 },
 "nbformat": 4,
 "nbformat_minor": 4
}
